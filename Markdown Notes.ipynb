{
 "cells": [
  {
   "cell_type": "markdown",
   "id": "c5a91b0c",
   "metadata": {},
   "source": [
    "# Deep Learning"
   ]
  },
  {
   "cell_type": "markdown",
   "id": "a53ac2bc",
   "metadata": {},
   "source": [
    "## I think I am really starting to get the hang of things. I was able to work through this project without the aid of a tutor, but I did have to ask the TA for some help with scaling. "
   ]
  },
  {
   "cell_type": "markdown",
   "id": "24a9e6d5",
   "metadata": {},
   "source": [
    "## According to my models, we should all go long on Bitcoin."
   ]
  }
 ],
 "metadata": {
  "kernelspec": {
   "display_name": "Python 3 (ipykernel)",
   "language": "python",
   "name": "python3"
  },
  "language_info": {
   "codemirror_mode": {
    "name": "ipython",
    "version": 3
   },
   "file_extension": ".py",
   "mimetype": "text/x-python",
   "name": "python",
   "nbconvert_exporter": "python",
   "pygments_lexer": "ipython3",
   "version": "3.7.11"
  }
 },
 "nbformat": 4,
 "nbformat_minor": 5
}
